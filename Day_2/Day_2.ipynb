{
 "cells": [
  {
   "cell_type": "code",
   "execution_count": 3,
   "metadata": {},
   "outputs": [
    {
     "name": "stdout",
     "output_type": "stream",
     "text": [
      "Valid Passwords =  546\n",
      "Invalid Passwords =  454\n"
     ]
    }
   ],
   "source": [
    "file = open(\"input2.txt\", 'r')\n",
    "lines = [line for line in file.readlines()]\n",
    "\n",
    "validPsw = 0\n",
    "invalidPsw = 0\n",
    "\n",
    "for line in lines:\n",
    "    policy = line.split(\": \")[0]\n",
    "    psw = line.split(\": \")[1]\n",
    "    policyLmt = policy.split(\" \")[0]\n",
    "    policyLetter = policy.split(\" \")[1]\n",
    "    policyLow = int(policyLmt.split(\"-\")[0])\n",
    "    policyHigh = int(policyLmt.split(\"-\")[1])\n",
    "\n",
    "    letterCount = psw.count(policyLetter)\n",
    "\n",
    "    if letterCount >= policyLow and letterCount <= policyHigh:\n",
    "        validPsw += 1\n",
    "    else:\n",
    "        invalidPsw +=1\n",
    "\n",
    "print (\"Valid Passwords = \", validPsw)\n",
    "print (\"Invalid Passwords = \", invalidPsw)"
   ]
  },
  {
   "cell_type": "code",
   "execution_count": null,
   "metadata": {},
   "outputs": [],
   "source": []
  }
 ],
 "metadata": {
  "kernelspec": {
   "display_name": "Python 3",
   "language": "python",
   "name": "python3"
  },
  "language_info": {
   "codemirror_mode": {
    "name": "ipython",
    "version": 3
   },
   "file_extension": ".py",
   "mimetype": "text/x-python",
   "name": "python",
   "nbconvert_exporter": "python",
   "pygments_lexer": "ipython3",
   "version": "3.8.5"
  }
 },
 "nbformat": 4,
 "nbformat_minor": 4
}
